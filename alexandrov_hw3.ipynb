{
 "cells": [
  {
   "cell_type": "markdown",
   "metadata": {},
   "source": [
    "### Алгоритмы интеллектуальной обработки больших объемов данных\n",
    "## Домашнее задание №3 - Дерево решений\n"
   ]
  },
  {
   "cell_type": "markdown",
   "metadata": {},
   "source": [
    "**Общая информация**\n",
    "\n",
    "**Срок сдачи:** 3 мая 2021, 08:30   \n",
    "**Штраф за опоздание:** -2 балла после 08:30 03 мая, -4 балла после 08:30 10 мая, -6 баллов после 08:30 17 мая, -8 баллов после 08:30 24 мая.\n",
    "\n",
    "При отправлении ДЗ указывайте фамилию в названии файла Присылать ДЗ необходимо в виде ссылки на свой github репозиторий на почту ml1.sphere@mail.ru с указанием темы в следующем формате:\n",
    "[ML0221, Задание 3] Фамилия Имя. \n",
    "\n",
    "\n",
    "Используйте данный Ipython Notebook при оформлении домашнего задания."
   ]
  },
  {
   "cell_type": "markdown",
   "metadata": {},
   "source": [
    "##  Реализуем дерево решений (3 балла)"
   ]
  },
  {
   "cell_type": "markdown",
   "metadata": {},
   "source": [
    "Допишите недостающие части дерева решений. Ваша реализация дерева должна работать по точности не хуже DecisionTreeClassifier из sklearn.\n",
    "Внимание: если Вас не устраивает предложенная структура хранения дерева, Вы без потери баллов можете сделать свой класс DecisionTreeClassifier, в котором сами полностью воспроизведете алгоритм дерева решений. Обязательно в нем иметь только функции fit, predict"
   ]
  },
  {
   "cell_type": "code",
   "execution_count": 62,
   "metadata": {},
   "outputs": [],
   "source": [
    "import matplotlib.pyplot as plt\n",
    "import numpy as np\n",
    "import pandas as pd\n",
    "\n",
    "from sklearn.datasets import load_wine\n",
    "from sklearn.ensemble import RandomForestClassifier\n",
    "from sklearn.metrics import accuracy_score\n",
    "from sklearn.model_selection import KFold, train_test_split, GridSearchCV, RandomizedSearchCV\n",
    "from sklearn.tree import DecisionTreeClassifier\n"
   ]
  },
  {
   "cell_type": "code",
   "execution_count": 63,
   "metadata": {},
   "outputs": [],
   "source": [
    "from sklearn.base import BaseEstimator\n",
    "class MyDecisionTreeClassifier(BaseEstimator):\n",
    "    NON_LEAF_TYPE = 0\n",
    "    LEAF_TYPE = 1\n",
    "\n",
    "    def __init__(self, min_samples_split=2, max_depth=5, criterion='gini'):\n",
    "        \"\"\"\n",
    "        criterion -- критерий расщепления. необходимо релизовать три:\n",
    "        Ошибка классификации, Индекс Джини, Энтропийный критерий\n",
    "        max_depth -- максимальная глубина дерева\n",
    "        min_samples_split -- минимальное число объектов в листе, чтобы сделать новый сплит\n",
    "        \"\"\"\n",
    "        self.min_samples_split = min_samples_split\n",
    "        self.max_depth = max_depth\n",
    "        self.num_class = -1\n",
    "        # Для последнего задания\n",
    "        self.feature_importances_ = None\n",
    "        self.criterion = criterion\n",
    "        # Структура, которая описывает дерево\n",
    "        # Представляет словарь, где для  node_id (айдишник узла дерева) храним\n",
    "        # (тип_узла, айдишник признака сплита, порог сплита) если тип NON_LEAF_TYPE\n",
    "        # (тип_узла, предсказание класса, вероятность класса) если тип LEAF_TYPE\n",
    "        # Подразумевается, что у каждого node_id в дереве слева \n",
    "        # узел с айди 2 * node_id + 1, а справа 2 * node_id + 2\n",
    "        self.tree = dict()\n",
    "\n",
    "    def __div_samples(self, x, y, feature_id, threshold):\n",
    "        \"\"\"\n",
    "        Разделяет объекты на 2 множества\n",
    "        x -- матрица объектов\n",
    "        y -- вектор ответов\n",
    "        feature_id -- айдишник признака, по которому делаем сплит\n",
    "        threshold -- порог, по которому делаем сплит\n",
    "        \"\"\"\n",
    "        left_mask = x[:, feature_id] > threshold\n",
    "        right_mask = ~left_mask\n",
    "        return x[left_mask], x[right_mask], y[left_mask], y[right_mask]\n",
    "\n",
    "    def __find_threshold(self, x, y):\n",
    "        \"\"\"\n",
    "        Находим оптимальный признак и порог для сплита\n",
    "        Здесь используемые разные impurity в зависимости от self.criterion\n",
    "        \"\"\"\n",
    "        max_Q = np.zeros(x.shape[1])\n",
    "        thresholds = np.zeros(x.shape[1])\n",
    "        Q = 0\n",
    "        for feature_id in range(x.shape[1]):\n",
    "            index_sort = np.argsort(x[:, feature_id])\n",
    "            x_sort = x[:, feature_id][index_sort]\n",
    "            x_sort = x_sort[~np.isnan(x_sort)]\n",
    "            y_sort = y[index_sort][:x_sort.size]\n",
    "            \n",
    "            \n",
    "            dif_features = np.asarray(y_sort[:-1] != y_sort[1:]).nonzero()[0]\n",
    "            if dif_features.size == 0:\n",
    "                continue\n",
    "            classes = np.zeros((y_sort.size - 1, self.num_class))\n",
    "            classes[np.arange(y_sort.size - 1), y_sort[:-1]] = 1\n",
    "            left_split = np.cumsum(classes, axis = 0)\n",
    "            right_split = np.bincount(y_sort, minlength = self.num_class) - left_split\n",
    "            left_samples = np.sum(left_split, axis = 1)\n",
    "            right_samples = y_sort.size - left_samples\n",
    "\n",
    "            if self.criterion == 'gini':\n",
    "                Q = (self.F_gini(left_split + right_split, y_sort.size) - left_samples/y_sort.size\n",
    "                        * self.F_gini(left_split, left_samples.reshape(-1,1)) - right_samples/y_sort.size\n",
    "                        * self.F_gini(right_split, right_samples.reshape(-1,1)))\n",
    "            elif self.criterion == 'entropy':\n",
    "                Q = (self.F_entropy(left_split + right_split, y_sort.size) - left_samples/y_sort.size\n",
    "                        * self.F_entropy(left_split, left_samples.reshape(-1,1)) - right_samples/y_sort.size\n",
    "                        * self.F_entropy(right_split, right_samples.reshape(-1,1)))\n",
    "            elif self.criterion == 'class':\n",
    "                Q = (self.F_class(left_split + right_split, y_sort.size) - left_samples/y_sort.size\n",
    "                        * self.F_class(left_split, left_samples.reshape(-1,1)) - right_samples/y_sort.size\n",
    "                        * self.F_class(right_split, right_samples.reshape(-1,1)))\n",
    "            else:\n",
    "                raise Exception(\"Wrong Criterion!\")\n",
    "            \n",
    "            max_Q[feature_id] = np.max(Q)\n",
    "            thresholds[feature_id] = x_sort[np.argmax(Q)]\n",
    "\n",
    "        max_Q_index = np.argmax(max_Q)\n",
    "        optimal_threshold = thresholds[max_Q_index]\n",
    "        self.feature_importances_[max_Q_index] += np.max(max_Q)\n",
    "        return max_Q_index, optimal_threshold\n",
    "                    \n",
    "    def F_gini(self, div_samples, size):\n",
    "        return 1 - np.sum(((div_samples / size)**2), axis = 1)   \n",
    "    \n",
    "    def F_entropy(self, div_samples, size):\n",
    "        p = div_samples / size\n",
    "        p[p == 0] = 1\n",
    "        return -np.sum(p * np.log(p), axis = 1)\n",
    "    \n",
    "    def F_class(self, div_samples, size):\n",
    "        return 1 - np.max(div_samples/size, axis = 1)\n",
    "    \n",
    "    \n",
    "    def __fit_node(self, x, y, node_id, depth):\n",
    "        \"\"\"\n",
    "        Делаем новый узел в дереве\n",
    "        Решаем, терминальный он или нет\n",
    "        Если нет, то строим левый узел  с айди 2 * node_id + 1\n",
    "        И правый узел с  айди 2 * node_id + 2\n",
    "        \"\"\"\n",
    "        classes, counts = np.unique(y, return_counts=True)\n",
    "        max_class = classes[np.argmax(counts)]\n",
    "        p = np.max(counts) / y.size\n",
    "        if (depth == self.max_depth) or (y.size < self.min_samples_split):\n",
    "            self.tree[node_id] = (self.__class__.LEAF_TYPE, max_class, p)\n",
    "        else:\n",
    "            feature_id, threshold = self.__find_threshold(x, y)\n",
    "            x_left, x_right, y_left, y_right = self.__div_samples(x, y, feature_id, threshold)\n",
    "            if (x_left.size == 0) or (x_right.size == 0):\n",
    "                self.tree[node_id] = (self.__class__.LEAF_TYPE, max_class, p)\n",
    "            else:\n",
    "                self.tree[node_id] = (self.__class__.NON_LEAF_TYPE, feature_id, threshold)\n",
    "                self.__fit_node(x_left, y_left, 2 * node_id + 1, depth + 1)\n",
    "                self.__fit_node(x_right, y_right, 2 * node_id + 2, depth + 1)\n",
    "                \n",
    "    def fit(self, x, y):\n",
    "        \"\"\"\n",
    "        Рекурсивно строим дерево решений\n",
    "        Начинаем с корня node_id 0\n",
    "        \"\"\"\n",
    "        self.feature_importances_ = dict.fromkeys((i for i in range(x.shape[1])), 0)\n",
    "        self.num_class = np.unique(y).size\n",
    "        self.__fit_node(x, y, 0, 0) \n",
    "\n",
    "    def __predict_class(self, x, node_id):\n",
    "        \"\"\"\n",
    "        Рекурсивно обходим дерево по всем узлам,\n",
    "        пока не дойдем до терминального\n",
    "        \"\"\"\n",
    "        node = self.tree[node_id]\n",
    "        if node[0] == self.__class__.NON_LEAF_TYPE:\n",
    "            _, feature_id, threshold = node\n",
    "            if x[feature_id] > threshold:\n",
    "                return self.__predict_class(x, 2 * node_id + 1)\n",
    "            else:\n",
    "                return self.__predict_class(x, 2 * node_id + 2)\n",
    "        else:\n",
    "            return node[1]\n",
    "        \n",
    "    def predict(self, X):\n",
    "        \"\"\"\n",
    "        Вызывает predict для всех объектов из матрицы X\n",
    "        \"\"\"\n",
    "        return np.array([self.__predict_class(x, 0) for x in X])\n",
    "    \n",
    "    def fit_predict(self, x_train, y_train, predicted_x):\n",
    "        self.fit(x_train, y_train)\n",
    "        return self.predict(predicted_x)\n",
    "    \n",
    "    def get_feature_importance(self):\n",
    "        \"\"\"\n",
    "        Возвращает важность признаков\n",
    "        \"\"\"\n",
    "        return self.feature_importances_"
   ]
  },
  {
   "cell_type": "code",
   "execution_count": 64,
   "metadata": {},
   "outputs": [],
   "source": [
    "my_clf = MyDecisionTreeClassifier(min_samples_split=2)\n",
    "clf = DecisionTreeClassifier(min_samples_split=2)"
   ]
  },
  {
   "cell_type": "code",
   "execution_count": 65,
   "metadata": {},
   "outputs": [],
   "source": [
    "wine = load_wine()\n",
    "X_train, X_test, y_train, y_test = train_test_split(wine.data, wine.target, test_size=0.1, stratify=wine.target)"
   ]
  },
  {
   "cell_type": "code",
   "execution_count": 68,
   "metadata": {},
   "outputs": [
    {
     "name": "stdout",
     "output_type": "stream",
     "text": [
      "sklearn 1.0\n",
      "my_clf 1.0\n"
     ]
    }
   ],
   "source": [
    "print('sklearn', accuracy_score(y_pred=clf.predict(X_test), y_true=y_test))\n",
    "print('my_clf', accuracy_score(y_pred=my_clf.predict(X_test), y_true=y_test))"
   ]
  },
  {
   "cell_type": "markdown",
   "metadata": {},
   "source": [
    "## Ускоряем дерево решений (2 балла)\n",
    "Добиться скорости работы на fit не медленнее чем в 10 раз sklearn на данных wine. \n",
    "Для этого используем numpy."
   ]
  },
  {
   "cell_type": "code",
   "execution_count": 66,
   "metadata": {
    "scrolled": true
   },
   "outputs": [
    {
     "name": "stdout",
     "output_type": "stream",
     "text": [
      "CPU times: user 1.64 ms, sys: 4 µs, total: 1.65 ms\n",
      "Wall time: 1.57 ms\n"
     ]
    },
    {
     "data": {
      "text/plain": [
       "DecisionTreeClassifier()"
      ]
     },
     "execution_count": 66,
     "metadata": {},
     "output_type": "execute_result"
    }
   ],
   "source": [
    "%time clf.fit(X_train, y_train)"
   ]
  },
  {
   "cell_type": "code",
   "execution_count": 67,
   "metadata": {},
   "outputs": [
    {
     "name": "stdout",
     "output_type": "stream",
     "text": [
      "CPU times: user 14.3 ms, sys: 6 µs, total: 14.3 ms\n",
      "Wall time: 13.3 ms\n"
     ]
    }
   ],
   "source": [
    "%time my_clf.fit(X_train, y_train)"
   ]
  },
  {
   "cell_type": "code",
   "execution_count": null,
   "metadata": {
    "collapsed": true
   },
   "outputs": [],
   "source": []
  },
  {
   "cell_type": "markdown",
   "metadata": {},
   "source": [
    "## Боевое применение (3 балла)\n",
    "\n",
    "На практике Вы познакомились с датасетом Speed Dating Data. В нем каждая пара в быстрых свиданиях характеризуется определенным набором признаков. Задача -- предсказать, произойдет ли матч пары (колонка match). \n",
    "\n",
    "Пример работы с датасетом можете найти в практике пункт 2\n",
    "https://github.com/VVVikulin/ml1.sphere/blob/master/2019-09/lecture_06/pract-trees.ipynb\n",
    "\n",
    "Данные и описания колонок лежат тут\n",
    "https://cloud.mail.ru/public/8nHV/p6J7wY1y1/speed-dating-experiment/"
   ]
  },
  {
   "cell_type": "markdown",
   "metadata": {},
   "source": [
    "Скачайте датасет, обработайте данные, как показано на семинаре или своим собственным способом. Обучите дерево классифкации. В качестве таргета возьмите колонку 'match'. Постарайтесь хорошо обработать признаки, чтобы выбить максимальную точность. Если точность будет близка к случайному гаданию, задание не будет защитано. \n"
   ]
  },
  {
   "cell_type": "code",
   "execution_count": 35,
   "metadata": {},
   "outputs": [],
   "source": [
    "df = pd.read_csv('./Speed Dating Data.csv', encoding='latin1')"
   ]
  },
  {
   "cell_type": "markdown",
   "metadata": {},
   "source": [
    "Сначала я обработал данные так же, как и в примере по ссылке. Отбросил те признаки, которые по интуиции и логике не должны влиять на предсказание."
   ]
  },
  {
   "cell_type": "code",
   "execution_count": 36,
   "metadata": {},
   "outputs": [],
   "source": [
    "df.drop(['iid','idg','id','condtn','wave','round','position', 'positin1', 'order','partner'], \n",
    "        axis =1, inplace = True)\n",
    "df.drop(['age_o', 'race_o', 'pf_o_att', \n",
    "              'pf_o_sin', 'pf_o_int',\n",
    "              'pf_o_fun', 'pf_o_amb', 'pf_o_sha',\n",
    "              'dec_o', 'attr_o', 'sinc_o', 'intel_o', 'fun_o',\n",
    "              'amb_o', 'shar_o', 'like_o', 'prob_o','met_o'], \n",
    "             axis=1, inplace = True)\n",
    "df.dropna(subset=['age'], inplace = True)\n",
    "df.drop(['field', 'undergra'], axis=1, inplace = True)\n",
    "df.dropna(subset=['imprelig', 'imprace'], inplace = True)\n",
    "df.drop(['from', 'zipcode','income','career'], axis=1, inplace = True)\n",
    "df.drop(['sports','tvsports','exercise','dining','museums','art','hiking','gaming',\n",
    "       'clubbing','reading','tv','theater','movies','concerts','music','shopping','yoga'], axis=1, inplace = True)\n"
   ]
  },
  {
   "cell_type": "markdown",
   "metadata": {},
   "source": [
    "Затем я убрал те столбцы, в которых было очень много неопределенных значений. Я посчитал эти признаки не очень важными, так как они предоставляют мало информации."
   ]
  },
  {
   "cell_type": "code",
   "execution_count": 37,
   "metadata": {},
   "outputs": [],
   "source": [
    "for i in df.columns:\n",
    "    if df[i].isnull().sum() > 900:\n",
    "        df.drop(i, axis = 1, inplace = True)"
   ]
  },
  {
   "cell_type": "markdown",
   "metadata": {},
   "source": [
    "В некоторых признаках у объектов были значения Nan, но их было достаточно мало. Я заменил их на отрицательные значения."
   ]
  },
  {
   "cell_type": "code",
   "execution_count": 38,
   "metadata": {},
   "outputs": [],
   "source": [
    "df.fillna(-1, inplace = True)\n",
    "target = df.match.values\n",
    "samples = df.drop(['match', 'dec'], axis = 1).values"
   ]
  },
  {
   "cell_type": "code",
   "execution_count": 50,
   "metadata": {},
   "outputs": [
    {
     "name": "stdout",
     "output_type": "stream",
     "text": [
      "my_clf 0.8458282950423216\n"
     ]
    }
   ],
   "source": [
    "X_train, X_test, y_train, y_test = train_test_split(samples, target, test_size=0.2)\n",
    "my_clf.fit(X_train, y_train)\n",
    "print('my_clf', accuracy_score(y_pred=my_clf.predict(X_test), y_true=y_test))"
   ]
  },
  {
   "cell_type": "markdown",
   "metadata": {},
   "source": [
    "Разбейте датасет на трейн и валидацию. Подберите на валидации оптимальный критерий  информативности. \n",
    "Постройте графики зависимости точности на валидации от глубины дерева, от минимального числа объектов для сплита. \n",
    "Какой максимальной точности удалось достигнуть?"
   ]
  },
  {
   "cell_type": "markdown",
   "metadata": {},
   "source": [
    "Используем кросс-валидацию, чтобы выявить оптимальный критерий информативности"
   ]
  },
  {
   "cell_type": "code",
   "execution_count": 51,
   "metadata": {},
   "outputs": [],
   "source": [
    "from sklearn.model_selection import cross_val_score"
   ]
  },
  {
   "cell_type": "code",
   "execution_count": 52,
   "metadata": {},
   "outputs": [
    {
     "name": "stdout",
     "output_type": "stream",
     "text": [
      "gini 0.8298062368431068\n",
      "entropy 0.8317410869826176\n",
      "class 0.8353704132032991\n"
     ]
    }
   ],
   "source": [
    "for i in ['gini', 'entropy', 'class']:\n",
    "    my_clf = MyDecisionTreeClassifier(min_samples_split=2, criterion = i)\n",
    "    print(i, np.mean(cross_val_score(my_clf, samples, target,cv = 10, scoring = 'accuracy')))"
   ]
  },
  {
   "cell_type": "markdown",
   "metadata": {},
   "source": [
    "По результатам кросс-валидации на 10 фолдах, лучший критерий - Ошибка классификации.\n",
    "\n",
    "Теперь рассмотрим зависимость точности от максимальной глубины дерева."
   ]
  },
  {
   "cell_type": "code",
   "execution_count": 42,
   "metadata": {},
   "outputs": [],
   "source": [
    "from tqdm import tqdm\n",
    "import matplotlib.pyplot as plt\n",
    "%matplotlib inline"
   ]
  },
  {
   "cell_type": "code",
   "execution_count": 43,
   "metadata": {},
   "outputs": [
    {
     "name": "stderr",
     "output_type": "stream",
     "text": [
      "100%|██████████| 28/28 [08:07<00:00, 17.40s/it]"
     ]
    },
    {
     "name": "stdout",
     "output_type": "stream",
     "text": [
      "optimal depth 4.0\n",
      "best accuracy 0.8337977344525415\n"
     ]
    },
    {
     "name": "stderr",
     "output_type": "stream",
     "text": [
      "\n"
     ]
    },
    {
     "data": {
      "image/png": "[encoded data removed]",
      "text/plain": [
       "<Figure size 432x288 with 1 Axes>"
      ]
     },
     "metadata": {
      "needs_background": "light"
     },
     "output_type": "display_data"
    }
   ],
   "source": [
    "x = np.zeros(28)\n",
    "y = np.zeros(28)\n",
    "for i in tqdm(range(2,30)):\n",
    "    my_clf = MyDecisionTreeClassifier(max_depth = i)\n",
    "    x[i-2] = i\n",
    "    y[i-2] = np.mean(cross_val_score(my_clf, samples, target,cv = 10, scoring='accuracy'))\n",
    "plt.xlabel(\"max_depth\")\n",
    "plt.ylabel(\"accuracy_score\")\n",
    "plt.plot(x,y)\n",
    "print('optimal depth', x[np.argmax(y)])\n",
    "print('best accuracy', np.max(y))"
   ]
  },
  {
   "cell_type": "code",
   "execution_count": 44,
   "metadata": {},
   "outputs": [
    {
     "name": "stderr",
     "output_type": "stream",
     "text": [
      "100%|██████████| 98/98 [09:29<00:00,  5.81s/it]"
     ]
    },
    {
     "name": "stdout",
     "output_type": "stream",
     "text": [
      "optimal minimal samples 24.0\n",
      "best accuracy 0.830048074811668\n"
     ]
    },
    {
     "name": "stderr",
     "output_type": "stream",
     "text": [
      "\n"
     ]
    },
    {
     "data": {
      "image/png": "[encoded data removed]",
      "text/plain": [
       "<Figure size 432x288 with 1 Axes>"
      ]
     },
     "metadata": {
      "needs_background": "light"
     },
     "output_type": "display_data"
    }
   ],
   "source": [
    "x = np.zeros(98)\n",
    "y = np.zeros(98)\n",
    "for i in tqdm(range(2,100)):\n",
    "    my_clf = MyDecisionTreeClassifier(min_samples_split=i)\n",
    "    x[i-2] = i\n",
    "    y[i-2] = np.mean(cross_val_score(my_clf, samples, target,cv = 10, scoring='accuracy'))\n",
    "plt.xlabel(\"min_samples_split\")\n",
    "plt.ylabel(\"accuracy_score\")\n",
    "plt.plot(x,y)\n",
    "print('optimal minimal samples', x[np.argmax(y)])\n",
    "print('best accuracy', np.max(y))"
   ]
  },
  {
   "cell_type": "code",
   "execution_count": 45,
   "metadata": {},
   "outputs": [
    {
     "name": "stderr",
     "output_type": "stream",
     "text": [
      "100%|██████████| 28/28 [12:27<00:00, 26.69s/it]"
     ]
    },
    {
     "name": "stdout",
     "output_type": "stream",
     "text": [
      "optimal depth 3.0\n",
      "best accuracy 0.8351290144078044\n"
     ]
    },
    {
     "name": "stderr",
     "output_type": "stream",
     "text": [
      "\n"
     ]
    },
    {
     "data": {
      "image/png": "[encoded data removed]",
      "text/plain": [
       "<Figure size 432x288 with 1 Axes>"
      ]
     },
     "metadata": {
      "needs_background": "light"
     },
     "output_type": "display_data"
    }
   ],
   "source": [
    "x = np.zeros(28)\n",
    "y = np.zeros(28)\n",
    "for i in tqdm(range(2,30)):\n",
    "    my_clf = MyDecisionTreeClassifier(max_depth = i, criterion = 'entropy')\n",
    "    x[i-2] = i\n",
    "    y[i-2] = np.mean(cross_val_score(my_clf, samples, target,cv = 10, scoring='accuracy'))\n",
    "plt.title('Entropy depth')\n",
    "plt.xlabel(\"max_depth\")\n",
    "plt.ylabel(\"accuracy_score\")\n",
    "plt.plot(x,y)\n",
    "print('optimal depth', x[np.argmax(y)])\n",
    "print('best accuracy', np.max(y))"
   ]
  },
  {
   "cell_type": "code",
   "execution_count": 46,
   "metadata": {},
   "outputs": [
    {
     "name": "stderr",
     "output_type": "stream",
     "text": [
      "100%|██████████| 28/28 [01:03<00:00,  2.26s/it]"
     ]
    },
    {
     "name": "stdout",
     "output_type": "stream",
     "text": [
      "optimal depth 2.0\n",
      "best accuracy 0.8353704132032991\n"
     ]
    },
    {
     "name": "stderr",
     "output_type": "stream",
     "text": [
      "\n"
     ]
    },
    {
     "data": {
      "image/png": "[encoded data removed]",
      "text/plain": [
       "<Figure size 432x288 with 1 Axes>"
      ]
     },
     "metadata": {
      "needs_background": "light"
     },
     "output_type": "display_data"
    }
   ],
   "source": [
    "x = np.zeros(28)\n",
    "y = np.zeros(28)\n",
    "for i in tqdm(range(2,30)):\n",
    "    my_clf = MyDecisionTreeClassifier(max_depth = i, criterion = 'class')\n",
    "    x[i-2] = i\n",
    "    y[i-2] = np.mean(cross_val_score(my_clf, samples, target,cv = 10, scoring='accuracy'))\n",
    "plt.title('Class depth')\n",
    "plt.xlabel(\"max_depth\")\n",
    "plt.ylabel(\"accuracy_score\")\n",
    "plt.plot(x,y)\n",
    "print('optimal depth', x[np.argmax(y)])\n",
    "print('best accuracy', np.max(y))"
   ]
  },
  {
   "cell_type": "code",
   "execution_count": 47,
   "metadata": {},
   "outputs": [
    {
     "name": "stderr",
     "output_type": "stream",
     "text": [
      "100%|██████████| 98/98 [14:40<00:00,  8.98s/it]"
     ]
    },
    {
     "name": "stdout",
     "output_type": "stream",
     "text": [
      "optimal minimal samples 54.0\n",
      "best accuracy 0.8322253484838281\n"
     ]
    },
    {
     "name": "stderr",
     "output_type": "stream",
     "text": [
      "\n"
     ]
    },
    {
     "data": {
      "image/png": "[encoded data removed]",
      "text/plain": [
       "<Figure size 432x288 with 1 Axes>"
      ]
     },
     "metadata": {
      "needs_background": "light"
     },
     "output_type": "display_data"
    }
   ],
   "source": [
    "x = np.zeros(98)\n",
    "y = np.zeros(98)\n",
    "for i in tqdm(range(2,100)):\n",
    "    my_clf = MyDecisionTreeClassifier(min_samples_split=i, criterion = 'entropy')\n",
    "    x[i-2] = i\n",
    "    y[i-2] = np.mean(cross_val_score(my_clf, samples, target,cv = 10, scoring='accuracy'))\n",
    "plt.xlabel(\"min_samples_split\")\n",
    "plt.ylabel(\"accuracy_score\")\n",
    "plt.plot(x,y)\n",
    "print('optimal minimal samples', x[np.argmax(y)])\n",
    "print('best accuracy', np.max(y))"
   ]
  },
  {
   "cell_type": "code",
   "execution_count": 48,
   "metadata": {},
   "outputs": [
    {
     "name": "stderr",
     "output_type": "stream",
     "text": [
      "100%|██████████| 98/98 [03:37<00:00,  2.22s/it]"
     ]
    },
    {
     "name": "stdout",
     "output_type": "stream",
     "text": [
      "optimal minimal samples 2.0\n",
      "best accuracy 0.8353704132032991\n"
     ]
    },
    {
     "name": "stderr",
     "output_type": "stream",
     "text": [
      "\n"
     ]
    },
    {
     "data": {
      "image/png": "[encoded data removed]",
      "text/plain": [
       "<Figure size 432x288 with 1 Axes>"
      ]
     },
     "metadata": {
      "needs_background": "light"
     },
     "output_type": "display_data"
    }
   ],
   "source": [
    "x = np.zeros(98)\n",
    "y = np.zeros(98)\n",
    "for i in tqdm(range(2,100)):\n",
    "    my_clf = MyDecisionTreeClassifier(min_samples_split=i, criterion = 'class')\n",
    "    x[i-2] = i\n",
    "    y[i-2] = np.mean(cross_val_score(my_clf, samples, target,cv = 10, scoring='accuracy'))\n",
    "plt.xlabel(\"min_samples_split\")\n",
    "plt.ylabel(\"accuracy_score\")\n",
    "plt.plot(x,y)\n",
    "print('optimal minimal samples', x[np.argmax(y)])\n",
    "print('best accuracy', np.max(y))"
   ]
  },
  {
   "cell_type": "code",
   "execution_count": 54,
   "metadata": {},
   "outputs": [
    {
     "name": "stderr",
     "output_type": "stream",
     "text": [
      "100%|██████████| 10/10 [00:44<00:00,  4.42s/it]"
     ]
    },
    {
     "name": "stdout",
     "output_type": "stream",
     "text": [
      "optimal minimal samples 20.0\n",
      "best accuracy 0.8337977344525415\n"
     ]
    },
    {
     "name": "stderr",
     "output_type": "stream",
     "text": [
      "\n"
     ]
    },
    {
     "data": {
      "image/png": "[encoded data removed]",
      "text/plain": [
       "<Figure size 432x288 with 1 Axes>"
      ]
     },
     "metadata": {
      "needs_background": "light"
     },
     "output_type": "display_data"
    }
   ],
   "source": [
    "x = np.zeros(10)\n",
    "y = np.zeros(10)\n",
    "for i in tqdm(range(20,30)):\n",
    "    my_clf = MyDecisionTreeClassifier(max_depth = 4, min_samples_split = i)\n",
    "    x[i-20] = i\n",
    "    y[i-20] = np.mean(cross_val_score(my_clf, samples, target,cv = 10, scoring='accuracy'))\n",
    "plt.xlabel(\"min_samples_split\")\n",
    "plt.ylabel(\"accuracy_score\")\n",
    "plt.plot(x,y)\n",
    "print('optimal minimal samples', x[np.argmax(y)])\n",
    "print('best accuracy', np.max(y))"
   ]
  },
  {
   "cell_type": "markdown",
   "metadata": {},
   "source": [
    "Максимальная точность - 83.537 процентов"
   ]
  },
  {
   "cell_type": "markdown",
   "metadata": {},
   "source": [
    "## Находим самые важные признаки (2 балла)\n",
    "\n"
   ]
  },
  {
   "cell_type": "markdown",
   "metadata": {},
   "source": [
    "По построенному дереву  легко понять, какие признаки лучше всего помогли решить задачу. Часто это бывает нужно  не только  для сокращения размерности в данных, но и для лучшего понимания прикладной задачи. Например, Вы хотите понять, какие признаки стоит еще конструировать -- для этого нужно понимать, какие из текущих лучше всего работают в дереве. "
   ]
  },
  {
   "cell_type": "markdown",
   "metadata": {},
   "source": [
    "Самый простой метод -- посчитать число сплитов, где использовался данные признак. Это не лучший вариант, так как по признаку который принимает всего 2 значения, но который почти точно разделяет выборку, число сплитов будет очень 1, но при этом признак сам очень хороший. \n",
    "В этом задании предлагается для каждого признака считать суммарный gain (в лекции обозначено как Q) при использовании этого признака в сплите. Тогда даже у очень хороших признаков с маленьким число сплитов это значение должно быть довольно высоким.  "
   ]
  },
  {
   "cell_type": "markdown",
   "metadata": {},
   "source": [
    "Реализовать это довольно просто: создаете словарь номер фичи : суммарный гейн и добавляете в нужную фичу каждый раз, когда используете ее при построении дерева. "
   ]
  },
  {
   "cell_type": "markdown",
   "metadata": {},
   "source": [
    "Добавьте функционал, который определяет значения feature importance. Обучите дерево на датасете Speed Dating Data.\n",
    "Выведите 10 главных фичей по важности."
   ]
  },
  {
   "cell_type": "code",
   "execution_count": 59,
   "metadata": {},
   "outputs": [
    {
     "name": "stdout",
     "output_type": "stream",
     "text": [
      "gender\n",
      "imprace\n",
      "imprelig\n",
      "attr3_1\n",
      "attr\n",
      "intel\n",
      "like\n",
      "prob\n",
      "satis_2\n",
      "shar1_2\n"
     ]
    }
   ],
   "source": [
    "my_clf = MyDecisionTreeClassifier(min_samples_split=2)\n",
    "my_clf.fit(samples, target)\n",
    "f = my_clf.get_feature_importance()\n",
    "feat = sorted(f,key=lambda i: f[i])[-10:]\n",
    "for i in range(samples.shape[1]):\n",
    "    if i in feat:\n",
    "        print(df.drop(['match', 'dec'], axis = 1).columns[i])"
   ]
  },
  {
   "cell_type": "code",
   "execution_count": 60,
   "metadata": {},
   "outputs": [
    {
     "name": "stdout",
     "output_type": "stream",
     "text": [
      "prob\n",
      "intel1_2\n",
      "fun1_2\n",
      "amb1_2\n",
      "shar1_2\n",
      "attr3_2\n",
      "sinc3_2\n",
      "intel3_2\n",
      "fun3_2\n",
      "amb3_2\n"
     ]
    }
   ],
   "source": [
    "my_clf = MyDecisionTreeClassifier(criterion = 'class')\n",
    "my_clf.fit(samples, target)\n",
    "f = my_clf.get_feature_importance()\n",
    "feat = sorted(f,key=lambda i: f[i])[-10:]\n",
    "for i in range(samples.shape[1]):\n",
    "    if i in feat:\n",
    "        print(df.drop(['match', 'dec'], axis = 1).columns[i])"
   ]
  },
  {
   "cell_type": "code",
   "execution_count": 61,
   "metadata": {},
   "outputs": [
    {
     "name": "stdout",
     "output_type": "stream",
     "text": [
      "gender\n",
      "samerace\n",
      "imprace\n",
      "date\n",
      "exphappy\n",
      "attr3_1\n",
      "like\n",
      "prob\n",
      "satis_2\n",
      "shar1_2\n"
     ]
    }
   ],
   "source": [
    "my_clf = MyDecisionTreeClassifier(criterion = 'entropy')\n",
    "my_clf.fit(samples, target)\n",
    "f = my_clf.get_feature_importance()\n",
    "feat = sorted(f,key=lambda i: f[i])[-10:]\n",
    "for i in range(samples.shape[1]):\n",
    "    if i in feat:\n",
    "        print(df.drop(['match', 'dec'], axis = 1).columns[i])"
   ]
  },
  {
   "cell_type": "markdown",
   "metadata": {},
   "source": [
    "## Фидбек (бесценно)"
   ]
  },
  {
   "cell_type": "markdown",
   "metadata": {},
   "source": [
    "* Какие аспекты обучения деревьев решений Вам показались непонятными? Какое место стоит дополнительно объяснить?"
   ]
  },
  {
   "cell_type": "markdown",
   "metadata": {},
   "source": [
    "### Ваш ответ здесь"
   ]
  },
  {
   "cell_type": "markdown",
   "metadata": {},
   "source": [
    "* Здесь Вы можете оставить отзыв о этой домашней работе или о всем курсе."
   ]
  },
  {
   "cell_type": "markdown",
   "metadata": {},
   "source": [
    "### ВАШ ОТЗЫВ ЗДЕСЬ\n",
    "\n"
   ]
  },
  {
   "cell_type": "code",
   "execution_count": null,
   "metadata": {
    "collapsed": true
   },
   "outputs": [],
   "source": []
  },
  {
   "cell_type": "code",
   "execution_count": null,
   "metadata": {
    "collapsed": true
   },
   "outputs": [],
   "source": []
  }
 ],
 "metadata": {
  "anaconda-cloud": {},
  "kernelspec": {
   "display_name": "Python 3",
   "language": "python",
   "name": "python3"
  },
  "language_info": {
   "codemirror_mode": {
    "name": "ipython",
    "version": 3
   },
   "file_extension": ".py",
   "mimetype": "text/x-python",
   "name": "python",
   "nbconvert_exporter": "python",
   "pygments_lexer": "ipython3",
   "version": "3.7.10"
  }
 },
 "nbformat": 4,
 "nbformat_minor": 2
}
