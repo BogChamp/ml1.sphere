{
 "cells": [
  {
   "cell_type": "code",
   "execution_count": 84,
   "metadata": {},
   "outputs": [],
   "source": [
    "from sympy import symbols\n",
    "from sympy import dsolve, Function, solve, Piecewise\n",
    "import sympy as sp\n",
    "import numpy as np"
   ]
  },
  {
   "cell_type": "markdown",
   "metadata": {},
   "source": [
    "### Обозначения\n",
    "* $u^+$ = up\n",
    "* $x(0)$ = x0\n",
    "* $x(T)$ = x1"
   ]
  },
  {
   "cell_type": "code",
   "execution_count": 85,
   "metadata": {},
   "outputs": [
    {
     "name": "stdout",
     "output_type": "stream",
     "text": [
      "Есть переключение\n",
      "Значения вычислены.\n",
      "Вычисление искомого выражения осуществляется в следующей ячейке!\n"
     ]
    }
   ],
   "source": [
    "t = symbols('t')\n",
    "T1 = symbols('T1')\n",
    "z = symbols('z', cls = Function)\n",
    "\n",
    "a = 1\n",
    "k = 12\n",
    "x0 = 3\n",
    "x1 = 5\n",
    "up = 48\n",
    "b = 4\n",
    "\n",
    "vp = up / k\n",
    "z1 = sp.Rational(a * (x1 - x0), k)\n",
    "\n",
    "Vop = sp.exp(b/2 * t) - 1\n",
    "T1 = 2 / b * sp.log(1/ (1 - sp.sqrt(b * z1)))\n",
    "Zop = 1/b * (1 - sp.exp(-b/2 * t)) ** 2\n",
    "\n",
    "\n",
    "if np.exp(float(b)/2 * float(T1)) - 1 > vp:\n",
    "    theta = 2/b * sp.log(1 + vp)\n",
    "    diffEq = z(t).diff(t) - (vp/(1 + vp) - b * z(t))\n",
    "    sol = dsolve(diffEq, z(t))\n",
    "    z = solve(sol, z(t))\n",
    "    z = z[0]\n",
    "    C = solve(z.subs(t,theta) - 1/b * (vp/ (1 + vp))**2)\n",
    "    z = z.subs(symbols('C1'), C[0])\n",
    "    Top = solve(z - z1)\n",
    "    Top = Top[0]\n",
    "    Vop = Piecewise((Vop, t <= theta), (vp, t > theta))\n",
    "    Zop = Piecewise((Zop, t <= theta), (z, t > theta))\n",
    "    print('Есть переключение')\n",
    "else:\n",
    "    Top = T1\n",
    "    print('Нет переключения')\n",
    "                    \n",
    "Uop = Vop * k\n",
    "Xop = Zop * k / a + x0\n",
    "Jop = sp.integrate(Uop, (t, 0, Top))\n",
    "\n",
    "print('Значения вычислены.')\n",
    "print('Вычисление искомого выражения осуществляется в следующей ячейке!')"
   ]
  },
  {
   "cell_type": "markdown",
   "metadata": {},
   "source": [
    "### Комментарий\n",
    "Для вбивания интегралов используется \n",
    "sp.integrate(<Что интегрируем>, (<по какой переменной>, <откуда>, <до куда>))\n",
    "\n",
    "Для встроенных функций типа логарифмов нужно писать\n",
    "sp.log(), sp.exp() и т.д.\n",
    "\n",
    "В принте нужно писать float(<То, что хотите посчитать>)\n",
    "\n",
    "Получаемые оптимальные значения: Uop, Xop, Jop, Top, theta (момент выхода на границу множества управляемости)."
   ]
  },
  {
   "cell_type": "code",
   "execution_count": 86,
   "metadata": {},
   "outputs": [
    {
     "name": "stdout",
     "output_type": "stream",
     "text": [
      "42.00000000000003\n"
     ]
    }
   ],
   "source": [
    "A = 25 * (3 * sp.log(5) - sp.integrate(Xop, (t,0, theta)) )\n",
    "print(float(A))"
   ]
  },
  {
   "cell_type": "code",
   "execution_count": null,
   "metadata": {},
   "outputs": [],
   "source": []
  }
 ],
 "metadata": {
  "kernelspec": {
   "display_name": "Python 3",
   "language": "python",
   "name": "python3"
  },
  "language_info": {
   "codemirror_mode": {
    "name": "ipython",
    "version": 3
   },
   "file_extension": ".py",
   "mimetype": "text/x-python",
   "name": "python",
   "nbconvert_exporter": "python",
   "pygments_lexer": "ipython3",
   "version": "3.6.4"
  }
 },
 "nbformat": 4,
 "nbformat_minor": 2
}
