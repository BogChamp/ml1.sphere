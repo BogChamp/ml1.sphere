{
 "cells": [
  {
   "cell_type": "markdown",
   "metadata": {},
   "source": [
    "**Общая информация**\n",
    "\n",
    "**Срок сдачи:** 29 марта 2021, 08:30 \n",
    "\n",
    "**Штраф за опоздание:** по 1 баллу за 24 часа задержки. Через 5 дней домашнее задание сгорает.\n",
    "\n",
    "При отправлении ДЗ указывайте фамилию в названии файла\n",
    "Присылать ДЗ необходимо в виде ссылки на свой github репозиторий на почту ml1.sphere@mail.ru с указанием темы в следующем формате:\n",
    "\n",
    "[ML0220, Задание 1] Фамилия Имя.\n",
    "\n",
    "Используйте данный Ipython Notebook при оформлении домашнего задания."
   ]
  },
  {
   "cell_type": "markdown",
   "metadata": {},
   "source": [
    "\n",
    "**Штрафные баллы:**\n",
    "\n",
    "1. Отсутствие фамилии в имени скрипта (скрипт должен называться по аналогии со stroykova_hw1.ipynb) -0.5 баллов\n",
    "2. Все строчки должны быть выполнены. Нужно, чтобы output команды можно было увидеть уже в git'е. В противном случае -0.5 баллов\n"
   ]
  },
  {
   "cell_type": "code",
   "execution_count": 1,
   "metadata": {},
   "outputs": [],
   "source": [
    "import numpy as np\n",
    "import matplotlib.pyplot as plt\n",
    "import scipy\n",
    "import sklearn\n",
    "import seaborn as sns\n",
    "import matplotlib.pyplot as plt\n",
    "\n",
    "from sklearn import datasets\n",
    "from sklearn.base import BaseEstimator\n",
    "from sklearn.datasets import fetch_openml, fetch_20newsgroups\n",
    "\n",
    "from sklearn.model_selection import train_test_split\n",
    "from sklearn.neighbors import KNeighborsClassifier\n",
    "from sklearn.metrics import accuracy_score"
   ]
  },
  {
   "cell_type": "markdown",
   "metadata": {},
   "source": [
    "##### Задание 1 (1 балл)\n",
    "Реализовать KNN в классе MyKNeighborsClassifier (обязательное условие: точность не ниже sklearn реализации)\n",
    "Разберитесь самостоятельно, какая мера расстояния используется в KNeighborsClassifier дефолтно и реализуйте свой алгоритм именно с этой мерой. \n",
    "Для подсчета расстояний можно использовать функции [отсюда](https://docs.scipy.org/doc/scipy/reference/spatial.distance.html)"
   ]
  },
  {
   "cell_type": "code",
   "execution_count": 2,
   "metadata": {},
   "outputs": [],
   "source": [
    "class MyKNeighborsClassifier(BaseEstimator):\n",
    "    \n",
    "    def __init__(self, n_neighbors, algorithm='brute', metric = 'euclidean'):\n",
    "        self.n_neighbors = n_neighbors\n",
    "        self.algorithm = algorithm\n",
    "        self.metric = metric\n",
    "    \n",
    "    def fit(self, X, y):\n",
    "        if self.algorithm == 'brute':\n",
    "            self.X_train = X\n",
    "            self.y_train = y\n",
    "        elif self.algorithm == 'kd_tree':\n",
    "            self.X_train = sklearn.neighbors.KDTree(X, leaf_size=2, metric = self.metric)\n",
    "            self.y_train = y\n",
    "    \n",
    "    def predict(self, X):\n",
    "        if self.algorithm == 'brute':\n",
    "            indexes = np.argpartition(scipy.spatial.distance.cdist(X, self.X_train, self.metric), self.n_neighbors, axis=1)[:, :self.n_neighbors] \n",
    "        elif self.algorithm == 'kd_tree':\n",
    "            indexes = self.X_train.query(X, self.n_neighbors, False)\n",
    "        result = np.array([])\n",
    "        for i in self.y_train[indexes]:\n",
    "            result = np.append(result, np.argmax(np.bincount(i)))\n",
    "        return result.astype(dtype = int)"
   ]
  },
  {
   "cell_type": "markdown",
   "metadata": {},
   "source": [
    "**IRIS**\n",
    "\n",
    "В библиотеке scikit-learn есть несколько датасетов из коробки. Один из них [Ирисы Фишера](https://ru.wikipedia.org/wiki/%D0%98%D1%80%D0%B8%D1%81%D1%8B_%D0%A4%D0%B8%D1%88%D0%B5%D1%80%D0%B0)"
   ]
  },
  {
   "cell_type": "code",
   "execution_count": 3,
   "metadata": {},
   "outputs": [],
   "source": [
    "iris = datasets.load_iris()"
   ]
  },
  {
   "cell_type": "code",
   "execution_count": 4,
   "metadata": {},
   "outputs": [],
   "source": [
    "X_train, X_test, y_train, y_test = train_test_split(iris.data, iris.target, test_size=0.1, stratify=iris.target)"
   ]
  },
  {
   "cell_type": "code",
   "execution_count": 5,
   "metadata": {},
   "outputs": [],
   "source": [
    "clf = KNeighborsClassifier(n_neighbors=2, algorithm='brute')\n",
    "my_clf = MyKNeighborsClassifier(n_neighbors=2, algorithm='brute')"
   ]
  },
  {
   "cell_type": "code",
   "execution_count": 6,
   "metadata": {},
   "outputs": [],
   "source": [
    "clf.fit(X_train, y_train)\n",
    "my_clf.fit(X_train, y_train)"
   ]
  },
  {
   "cell_type": "code",
   "execution_count": 7,
   "metadata": {},
   "outputs": [],
   "source": [
    "sklearn_pred = clf.predict(X_test)\n",
    "my_clf_pred = my_clf.predict(X_test)\n",
    "assert abs( accuracy_score(y_test, my_clf_pred) -  accuracy_score(y_test, sklearn_pred ) )<0.005, \"Score must be simillar\""
   ]
  },
  {
   "cell_type": "markdown",
   "metadata": {},
   "source": [
    "**Задание 2 (0.5 балла)**\n",
    "\n",
    "Давайте попробуем добиться скорости работы на fit, predict сравнимой со sklearn для iris. Допускается замедление не более чем в 2 раза. \n",
    "Для этого используем numpy. "
   ]
  },
  {
   "cell_type": "code",
   "execution_count": 8,
   "metadata": {},
   "outputs": [
    {
     "name": "stdout",
     "output_type": "stream",
     "text": [
      "CPU times: user 506 µs, sys: 164 µs, total: 670 µs\n",
      "Wall time: 700 µs\n"
     ]
    },
    {
     "data": {
      "text/plain": [
       "KNeighborsClassifier(algorithm='brute', n_neighbors=2)"
      ]
     },
     "execution_count": 8,
     "metadata": {},
     "output_type": "execute_result"
    }
   ],
   "source": [
    "%time clf.fit(X_train, y_train)"
   ]
  },
  {
   "cell_type": "code",
   "execution_count": 9,
   "metadata": {},
   "outputs": [
    {
     "name": "stdout",
     "output_type": "stream",
     "text": [
      "CPU times: user 5 µs, sys: 2 µs, total: 7 µs\n",
      "Wall time: 9.78 µs\n"
     ]
    }
   ],
   "source": [
    "%time my_clf.fit(X_train, y_train)"
   ]
  },
  {
   "cell_type": "code",
   "execution_count": 10,
   "metadata": {},
   "outputs": [
    {
     "name": "stdout",
     "output_type": "stream",
     "text": [
      "CPU times: user 4.04 ms, sys: 0 ns, total: 4.04 ms\n",
      "Wall time: 5.65 ms\n"
     ]
    },
    {
     "data": {
      "text/plain": [
       "array([2, 2, 2, 2, 1, 0, 0, 0, 1, 1, 2, 0, 2, 0, 1])"
      ]
     },
     "execution_count": 10,
     "metadata": {},
     "output_type": "execute_result"
    }
   ],
   "source": [
    "%time clf.predict(X_test)"
   ]
  },
  {
   "cell_type": "code",
   "execution_count": 11,
   "metadata": {},
   "outputs": [
    {
     "name": "stdout",
     "output_type": "stream",
     "text": [
      "CPU times: user 761 µs, sys: 244 µs, total: 1 ms\n",
      "Wall time: 948 µs\n"
     ]
    },
    {
     "data": {
      "text/plain": [
       "array([2, 2, 2, 2, 1, 0, 0, 0, 1, 1, 2, 0, 2, 0, 1])"
      ]
     },
     "execution_count": 11,
     "metadata": {},
     "output_type": "execute_result"
    }
   ],
   "source": [
    "%time my_clf.predict(X_test)"
   ]
  },
  {
   "cell_type": "markdown",
   "metadata": {},
   "source": [
    "###### Задание 3 (1 балл)\n",
    "Добавьте algorithm='kd_tree' в реализацию KNN (использовать KDTree из sklearn.neighbors). Необходимо добиться скорости работы на fit,  predict сравнимой со sklearn для iris. Допускается замедление не более чем в 2 раза. \n",
    "Для этого используем numpy. Точность не должна уступать значению KNN из sklearn. "
   ]
  },
  {
   "cell_type": "code",
   "execution_count": 12,
   "metadata": {},
   "outputs": [],
   "source": [
    "clf = KNeighborsClassifier(n_neighbors=2, algorithm='kd_tree')\n",
    "my_clf = MyKNeighborsClassifier(n_neighbors=2, algorithm='kd_tree')"
   ]
  },
  {
   "cell_type": "code",
   "execution_count": 13,
   "metadata": {},
   "outputs": [],
   "source": [
    "X_train, X_test, y_train, y_test = train_test_split(iris.data, iris.target, test_size=0.1, stratify=iris.target)"
   ]
  },
  {
   "cell_type": "code",
   "execution_count": 14,
   "metadata": {},
   "outputs": [
    {
     "name": "stdout",
     "output_type": "stream",
     "text": [
      "CPU times: user 1.26 ms, sys: 0 ns, total: 1.26 ms\n",
      "Wall time: 1.18 ms\n"
     ]
    },
    {
     "data": {
      "text/plain": [
       "KNeighborsClassifier(algorithm='kd_tree', n_neighbors=2)"
      ]
     },
     "execution_count": 14,
     "metadata": {},
     "output_type": "execute_result"
    }
   ],
   "source": [
    "%time clf.fit(X_train, y_train)"
   ]
  },
  {
   "cell_type": "code",
   "execution_count": 15,
   "metadata": {},
   "outputs": [
    {
     "name": "stdout",
     "output_type": "stream",
     "text": [
      "CPU times: user 582 µs, sys: 0 ns, total: 582 µs\n",
      "Wall time: 578 µs\n"
     ]
    }
   ],
   "source": [
    "%time my_clf.fit(X_train, y_train)"
   ]
  },
  {
   "cell_type": "code",
   "execution_count": 16,
   "metadata": {},
   "outputs": [
    {
     "name": "stdout",
     "output_type": "stream",
     "text": [
      "CPU times: user 0 ns, sys: 3.02 ms, total: 3.02 ms\n",
      "Wall time: 4.98 ms\n"
     ]
    },
    {
     "data": {
      "text/plain": [
       "array([1, 0, 0, 2, 0, 2, 1, 1, 2, 1, 2, 0, 0, 1, 2])"
      ]
     },
     "execution_count": 16,
     "metadata": {},
     "output_type": "execute_result"
    }
   ],
   "source": [
    "%time clf.predict(X_test)"
   ]
  },
  {
   "cell_type": "code",
   "execution_count": 17,
   "metadata": {},
   "outputs": [
    {
     "name": "stdout",
     "output_type": "stream",
     "text": [
      "CPU times: user 864 µs, sys: 276 µs, total: 1.14 ms\n",
      "Wall time: 921 µs\n"
     ]
    },
    {
     "data": {
      "text/plain": [
       "array([1, 0, 0, 2, 0, 2, 1, 1, 2, 1, 2, 0, 0, 1, 2])"
      ]
     },
     "execution_count": 17,
     "metadata": {},
     "output_type": "execute_result"
    }
   ],
   "source": [
    "%time my_clf.predict(X_test)"
   ]
  },
  {
   "cell_type": "code",
   "execution_count": 18,
   "metadata": {},
   "outputs": [],
   "source": [
    "sklearn_pred = clf.predict(X_test)\n",
    "my_clf_pred = my_clf.predict(X_test)\n",
    "assert abs( accuracy_score(y_test, my_clf_pred) -  accuracy_score(y_test, sklearn_pred ) )<0.005, \"Score must be simillar\""
   ]
  },
  {
   "cell_type": "markdown",
   "metadata": {},
   "source": [
    "**Задание 4 (2.5 балла)**\n",
    "\n",
    "Рассмотрим новый датасет 20 newsgroups"
   ]
  },
  {
   "cell_type": "code",
   "execution_count": 19,
   "metadata": {},
   "outputs": [],
   "source": [
    "newsgroups = fetch_20newsgroups(subset='train',remove=['headers','footers', 'quotes'])"
   ]
  },
  {
   "cell_type": "code",
   "execution_count": 20,
   "metadata": {},
   "outputs": [],
   "source": [
    "data = newsgroups['data']\n",
    "target = newsgroups['target']"
   ]
  },
  {
   "cell_type": "markdown",
   "metadata": {},
   "source": [
    "Преобразуйте текстовые данные из data с помощью [CountVectorizer](https://scikit-learn.org/stable/modules/generated/sklearn.feature_extraction.text.CountVectorizer.html). Словарь можно ограничить по частотности."
   ]
  },
  {
   "cell_type": "code",
   "execution_count": 21,
   "metadata": {},
   "outputs": [],
   "source": [
    "X = sklearn.feature_extraction.text.CountVectorizer(max_features = 1000).fit_transform(raw_documents = data)"
   ]
  },
  {
   "cell_type": "markdown",
   "metadata": {},
   "source": [
    "*Так мы получили векторное представление наших текстов. Значит можно приступать к задаче обучения модели*"
   ]
  },
  {
   "cell_type": "markdown",
   "metadata": {},
   "source": [
    "Реализуйте разбиение выборки для кросс-валидации на 3 фолдах. Разрешено использовать sklearn.cross_validation"
   ]
  },
  {
   "cell_type": "code",
   "execution_count": 22,
   "metadata": {},
   "outputs": [],
   "source": [
    "from sklearn.model_selection import KFold"
   ]
  },
  {
   "cell_type": "code",
   "execution_count": 23,
   "metadata": {},
   "outputs": [],
   "source": [
    "kf = KFold(n_splits = 3)"
   ]
  },
  {
   "cell_type": "markdown",
   "metadata": {},
   "source": [
    "Напишите метод, позволяющий найти оптимальное количество ближайших соседей(дающее максимальную точность в среднем на валидации на 3 фолдах).\n",
    "Постройте график зависимости средней точности от количества соседей. Можно рассмотреть число соседей от 1 до 10."
   ]
  },
  {
   "cell_type": "code",
   "execution_count": 24,
   "metadata": {},
   "outputs": [
    {
     "name": "stdout",
     "output_type": "stream",
     "text": [
      "MyKNeighborsClassifier with 1 neighbours, average is 0.18260631942212335\n",
      "MyKNeighborsClassifier with 2 neighbours, average is 0.169790026564096\n",
      "MyKNeighborsClassifier with 3 neighbours, average is 0.17288303914480463\n",
      "MyKNeighborsClassifier with 4 neighbours, average is 0.17403213619144597\n",
      "MyKNeighborsClassifier with 5 neighbours, average is 0.17350224157701435\n",
      "MyKNeighborsClassifier with 6 neighbours, average is 0.17456301504317662\n",
      "MyKNeighborsClassifier with 7 neighbours, average is 0.1776566603478632\n",
      "MyKNeighborsClassifier with 8 neighbours, average is 0.1819874685032347\n",
      "MyKNeighborsClassifier with 9 neighbours, average is 0.18410885139600938\n",
      "MyKNeighborsClassifier with 10 neighbours, average is 0.18419703437116\n",
      "optimal neighbour is 10\n"
     ]
    },
    {
     "data": {
      "text/plain": [
       "[<matplotlib.lines.Line2D at 0x7f24e63cf4d0>]"
      ]
     },
     "execution_count": 24,
     "metadata": {},
     "output_type": "execute_result"
    },
    {
     "data": {
      "image/png": "[encoded data removed]",
      "text/plain": [
       "<Figure size 432x288 with 1 Axes>"
      ]
     },
     "metadata": {
      "needs_background": "light"
     },
     "output_type": "display_data"
    }
   ],
   "source": [
    "array = np.array([])\n",
    "for i in range(1, 11):\n",
    "    accuracy = 0\n",
    "    my_clf = MyKNeighborsClassifier(n_neighbors=i, algorithm='brute')\n",
    "    for train_index, test_index in kf.split(X):\n",
    "        X_train, X_test = X[train_index], X[test_index]\n",
    "        y_train, y_test = target[train_index], target[test_index]\n",
    "        my_clf.fit(X_train.toarray(),y_train)\n",
    "        my_clf_pred = my_clf.predict(X_test.toarray())\n",
    "        accuracy += accuracy_score(y_test, my_clf_pred)\n",
    "    print('MyKNeighborsClassifier with',i,'neighbours, average is',accuracy/3)\n",
    "    array = np.append(array,accuracy/3)\n",
    "print('optimal neighbour is',np.array([1,2,3,4,5,6,7,8,9,10])[np.argmax(array)])\n",
    "plt.plot(np.arange(1,11), array)"
   ]
  },
  {
   "cell_type": "markdown",
   "metadata": {},
   "source": [
    "Как изменится качество на валидации, если:\n",
    "\n",
    "1. Используется косинусная метрика вместо евклидовой.\n",
    "2. К текстам применяется TfIdf векторизацию( sklearn.feature_extraction.text.TfidfVectorizer)\n",
    "\n",
    "Сравните модели, выберите лучшую."
   ]
  },
  {
   "cell_type": "markdown",
   "metadata": {},
   "source": [
    "Попробуем использовать косинусную метрику:"
   ]
  },
  {
   "cell_type": "code",
   "execution_count": 25,
   "metadata": {},
   "outputs": [
    {
     "name": "stdout",
     "output_type": "stream",
     "text": [
      "MyKNeighborsClassifier with 1 neighbours, average is 0.24783395148122558\n",
      "MyKNeighborsClassifier with 2 neighbours, average is 0.24040968549493877\n",
      "MyKNeighborsClassifier with 3 neighbours, average is 0.2399674583027868\n",
      "MyKNeighborsClassifier with 4 neighbours, average is 0.23837641527465048\n",
      "MyKNeighborsClassifier with 5 neighbours, average is 0.2413816666961938\n",
      "MyKNeighborsClassifier with 6 neighbours, average is 0.24288438614385108\n",
      "MyKNeighborsClassifier with 7 neighbours, average is 0.24465226380671679\n",
      "MyKNeighborsClassifier with 8 neighbours, average is 0.24562452621862874\n",
      "MyKNeighborsClassifier with 9 neighbours, average is 0.24509458473575432\n",
      "MyKNeighborsClassifier with 10 neighbours, average is 0.24208956765642506\n",
      "optimal neighbour is 1\n"
     ]
    },
    {
     "data": {
      "text/plain": [
       "[<matplotlib.lines.Line2D at 0x7f24e58a3350>]"
      ]
     },
     "execution_count": 25,
     "metadata": {},
     "output_type": "execute_result"
    },
    {
     "data": {
      "image/png": "[encoded data removed]",
      "text/plain": [
       "<Figure size 432x288 with 1 Axes>"
      ]
     },
     "metadata": {
      "needs_background": "light"
     },
     "output_type": "display_data"
    }
   ],
   "source": [
    "array = np.array([])\n",
    "for i in range(1, 11):\n",
    "    accuracy = 0\n",
    "    my_clf = MyKNeighborsClassifier(n_neighbors=i, algorithm='brute', metric = 'cosine')\n",
    "    for train_index, test_index in kf.split(X):\n",
    "        X_train, X_test = X[train_index], X[test_index]\n",
    "        y_train, y_test = target[train_index], target[test_index]\n",
    "        my_clf.fit(X_train.toarray(),y_train)\n",
    "        my_clf_pred = my_clf.predict(X_test.toarray())\n",
    "        accuracy += accuracy_score(y_test, my_clf_pred)\n",
    "    print('MyKNeighborsClassifier with',i,'neighbours, average is',accuracy/3)\n",
    "    array = np.append(array,accuracy/3)\n",
    "print('optimal neighbour is',np.array([1,2,3,4,5,6,7,8,9,10])[np.argmax(array)])\n",
    "plt.plot(np.arange(1,11), array)"
   ]
  },
  {
   "cell_type": "markdown",
   "metadata": {},
   "source": [
    "Как видно по результатам, средняя точность косинусной метрики примерно на 0.06. Оптимальное количество соседей в этом случае 1. Посмотрим на результаты при TfdifVectorizer:"
   ]
  },
  {
   "cell_type": "code",
   "execution_count": 26,
   "metadata": {},
   "outputs": [
    {
     "name": "stdout",
     "output_type": "stream",
     "text": [
      "MyKNeighborsClassifier with 1 neighbours, average is 0.27169809711310083\n",
      "MyKNeighborsClassifier with 2 neighbours, average is 0.21124260990110852\n",
      "MyKNeighborsClassifier with 3 neighbours, average is 0.22016957190083128\n",
      "MyKNeighborsClassifier with 4 neighbours, average is 0.21522012373456376\n",
      "MyKNeighborsClassifier with 5 neighbours, average is 0.21265658395230144\n",
      "MyKNeighborsClassifier with 6 neighbours, average is 0.20956282147650782\n",
      "MyKNeighborsClassifier with 7 neighbours, average is 0.2083254711520516\n",
      "MyKNeighborsClassifier with 8 neighbours, average is 0.20470202496981904\n",
      "MyKNeighborsClassifier with 9 neighbours, average is 0.2027574767117738\n",
      "MyKNeighborsClassifier with 10 neighbours, average is 0.20028270576019724\n",
      "optimal neighbour is 1\n"
     ]
    },
    {
     "data": {
      "text/plain": [
       "[<matplotlib.lines.Line2D at 0x7f24e5547c10>]"
      ]
     },
     "execution_count": 26,
     "metadata": {},
     "output_type": "execute_result"
    },
    {
     "data": {
      "image/png": "[encoded data removed]",
      "text/plain": [
       "<Figure size 432x288 with 1 Axes>"
      ]
     },
     "metadata": {
      "needs_background": "light"
     },
     "output_type": "display_data"
    }
   ],
   "source": [
    "X = sklearn.feature_extraction.text.TfidfVectorizer(max_features = 1000).fit_transform(raw_documents = data)\n",
    "array = np.array([])\n",
    "for i in range(1, 11): #Tfdif + euclid\n",
    "    accuracy = 0\n",
    "    my_clf = MyKNeighborsClassifier(n_neighbors=i, algorithm='brute')\n",
    "    for train_index, test_index in kf.split(X):\n",
    "        X_train, X_test = X[train_index], X[test_index]\n",
    "        y_train, y_test = target[train_index], target[test_index]\n",
    "        my_clf.fit(X_train.toarray(),y_train)\n",
    "        my_clf_pred = my_clf.predict(X_test.toarray())\n",
    "        accuracy += accuracy_score(y_test, my_clf_pred)\n",
    "    print('MyKNeighborsClassifier with',i,'neighbours, average is',accuracy/3)\n",
    "    array = np.append(array,accuracy/3)\n",
    "print('optimal neighbour is',np.array([1,2,3,4,5,6,7,8,9,10])[np.argmax(array)])\n",
    "plt.plot(np.arange(1,11), array)"
   ]
  },
  {
   "cell_type": "code",
   "execution_count": 29,
   "metadata": {},
   "outputs": [
    {
     "name": "stdout",
     "output_type": "stream",
     "text": [
      "MyKNeighborsClassifier with 1 neighbours, average is 0.4038358445913677\n",
      "MyKNeighborsClassifier with 2 neighbours, average is 0.38774949360990957\n",
      "MyKNeighborsClassifier with 3 neighbours, average is 0.3962342752859233\n",
      "MyKNeighborsClassifier with 4 neighbours, average is 0.40233338292014587\n",
      "MyKNeighborsClassifier with 5 neighbours, average is 0.4110837211931318\n",
      "MyKNeighborsClassifier with 6 neighbours, average is 0.41400015691554654\n",
      "MyKNeighborsClassifier with 7 neighbours, average is 0.4179774364067878\n",
      "MyKNeighborsClassifier with 8 neighbours, average is 0.42301525502197707\n",
      "MyKNeighborsClassifier with 9 neighbours, average is 0.4251367785200802\n",
      "MyKNeighborsClassifier with 10 neighbours, average is 0.42443009613936206\n",
      "optimal neighbour is 9\n"
     ]
    },
    {
     "data": {
      "text/plain": [
       "[<matplotlib.lines.Line2D at 0x7f24e56e8710>]"
      ]
     },
     "execution_count": 29,
     "metadata": {},
     "output_type": "execute_result"
    },
    {
     "data": {
      "image/png": "[encoded data removed]",
      "text/plain": [
       "<Figure size 432x288 with 1 Axes>"
      ]
     },
     "metadata": {
      "needs_background": "light"
     },
     "output_type": "display_data"
    }
   ],
   "source": [
    "array = np.array([])\n",
    "for i in range(1, 11): #Tfdif + cosine\n",
    "    accuracy = 0\n",
    "    my_clf = MyKNeighborsClassifier(n_neighbors=i, algorithm='brute', metric = 'cosine')\n",
    "    for train_index, test_index in kf.split(X):\n",
    "        X_train, X_test = X[train_index], X[test_index]\n",
    "        y_train, y_test = target[train_index], target[test_index]\n",
    "        my_clf.fit(X_train.toarray(),y_train)\n",
    "        my_clf_pred = my_clf.predict(X_test.toarray())\n",
    "        accuracy += accuracy_score(y_test, my_clf_pred)\n",
    "    print('MyKNeighborsClassifier with',i,'neighbours, average is',accuracy/3)\n",
    "    array = np.append(array,accuracy/3)\n",
    "print('optimal neighbour is',np.array([1,2,3,4,5,6,7,8,9,10])[np.argmax(array)])\n",
    "plt.plot(np.arange(1,11), array)"
   ]
  },
  {
   "cell_type": "markdown",
   "metadata": {},
   "source": [
    "Как видно из результатов, максимальная точность достигается при TfdifVectorizer и косинусной метрике. Tfdif дает большую точность, чем Vectorizer. Лучшая модель в нашем случае - Tfdif + cosine с 9 соседями."
   ]
  },
  {
   "cell_type": "markdown",
   "metadata": {},
   "source": [
    "Загрузим  теперь test  часть нашей выборки и преобразуем её аналогично с train частью. Не забудьте, что наборы слов в train и test части могут отличаться."
   ]
  },
  {
   "cell_type": "code",
   "execution_count": 34,
   "metadata": {},
   "outputs": [],
   "source": [
    "newsgroups = fetch_20newsgroups(subset='test',remove=['headers','footers', 'quotes'])"
   ]
  },
  {
   "cell_type": "markdown",
   "metadata": {},
   "source": [
    "Оценим точность вашей лучшей модели на test части датасета. Отличается ли оно от кросс-валидации? Попробуйте сделать выводы, почему отличается качество."
   ]
  },
  {
   "cell_type": "code",
   "execution_count": 40,
   "metadata": {},
   "outputs": [],
   "source": [
    "newdata = newsgroups['data']\n",
    "newtarget = newsgroups['target']"
   ]
  },
  {
   "cell_type": "code",
   "execution_count": 50,
   "metadata": {},
   "outputs": [],
   "source": [
    "vectorizer = sklearn.feature_extraction.text.TfidfVectorizer(max_features = 1000)\n",
    "X = vectorizer.fit_transform(data)\n",
    "my_clf = MyKNeighborsClassifier(n_neighbors=9, algorithm='brute', metric = 'cosine')\n",
    "my_clf.fit(X.toarray(), target)\n",
    "\n",
    "newvectorizer = sklearn.feature_extraction.text.TfidfVectorizer(vocabulary = vectorizer.get_feature_names())\n",
    "newX = newvectorizer.fit_transform(newdata)\n"
   ]
  },
  {
   "cell_type": "code",
   "execution_count": 52,
   "metadata": {},
   "outputs": [
    {
     "data": {
      "text/plain": [
       "0.36975570897503984"
      ]
     },
     "execution_count": 52,
     "metadata": {},
     "output_type": "execute_result"
    }
   ],
   "source": [
    "accuracy_score(newtarget, my_clf.predict(newX.toarray()))"
   ]
  },
  {
   "cell_type": "raw",
   "metadata": {},
   "source": [
    "Как мы видим, точность оказалась немного ниже,чем на кросс-валидации. Причина в том, что наша модель обучалась на трейновой выьорке, а предсказывала для тестовой. Очевидно, тестовая выборка отличается от трейновой, и наша модель приспособлена именно к трейновой, то есть она переобучилась на ней. По этой причине точность на тестовой выборке немного отличается от той, что мы ожидали."
   ]
  },
  {
   "cell_type": "code",
   "execution_count": null,
   "metadata": {},
   "outputs": [],
   "source": []
  }
 ],
 "metadata": {
  "kernelspec": {
   "display_name": "Python 3",
   "language": "python",
   "name": "python3"
  },
  "language_info": {
   "codemirror_mode": {
    "name": "ipython",
    "version": 3
   },
   "file_extension": ".py",
   "mimetype": "text/x-python",
   "name": "python",
   "nbconvert_exporter": "python",
   "pygments_lexer": "ipython3",
   "version": "3.7.10"
  }
 },
 "nbformat": 4,
 "nbformat_minor": 2
}
