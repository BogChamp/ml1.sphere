{
 "cells": [
  {
   "cell_type": "markdown",
   "metadata": {},
   "source": [
    "### Алгоритмы интеллектуальной обработки больших объемов данных\n",
    "## Домашнее задание №4 - Градиентный бустинг\n"
   ]
  },
  {
   "cell_type": "markdown",
   "metadata": {},
   "source": [
    "**Общая информация**\n",
    "\n",
    "**Срок сдачи:** 10 мая 2021, 08:30   \n",
    "**Штраф за опоздание:** -2 балла после 08:30 10 мая, -4 балла после 08:30 17 мая, -6 баллов после 08:30 24 мая, -8 баллов после 08:30 31 мая.\n",
    "\n",
    "При отправлении ДЗ указывайте фамилию в названии файла Присылать ДЗ необходимо в виде ссылки на свой github репозиторий на почту ml1.sphere@mail.ru с указанием темы в следующем формате:\n",
    "[ML0221, Задание 4] Фамилия Имя. \n",
    "\n",
    "\n",
    "Используйте данный Ipython Notebook при оформлении домашнего задания."
   ]
  },
  {
   "cell_type": "markdown",
   "metadata": {},
   "source": [
    "##  Считаем производные для функций потерь (1 балл)"
   ]
  },
  {
   "cell_type": "markdown",
   "metadata": {},
   "source": [
    "Мы будем реализовать градиентный бустинг для 3 функций потерь:\n",
    "\n",
    "1) MSE  $L(a(x_i), y_i) = (y_i - a(x_i)) ^ 2$\n",
    "\n",
    "2) Экспоненциальная  $L(a(x_i), y_i) = exp( -a(x_i) y_i), y_i \\in \\{-1, 1\\}$\n",
    "\n",
    "3) Логистическая  $L(a(x_i), y_i) = \\log (1 + exp( -a(x_i) y_i)), y_i \\in \\{-1, 1\\}$\n",
    "\n",
    "где $a(x_i)$ предсказание бустинга на итом объекте. \n",
    "\n",
    "Для каждой функции потерь напишите таргет, на который будет настраиваться каждое дерево в бустинге. "
   ]
  },
  {
   "cell_type": "markdown",
   "metadata": {},
   "source": [
    "1)$\\frac{\\partial L(a(x_{i}),y_{i})}{\\partial a(x_{i})}\\ =\\ -2(y_{i} - a(x_{i}))$\n",
    "\n",
    "$Таргет: 2(y_{i} - a(x_{i}))$\n",
    "\n",
    "2)$\\frac{\\partial L(a(x_{i}),y_{i})}{\\partial a(x_{i})}\\ =\\ -y_{i} * exp(-a(x_{i})y_{i})$\n",
    "\n",
    "$Таргет: y_{i} * exp(-a(x_{i})y_{i})$\n",
    "\n",
    "3)$\\frac{\\partial L(a(x_{i}),y_{i})}{\\partial a(x_{i})}\\ =\\ \\frac{-y_{i}exp(-a(x_{i})y_{i})}{1 + exp(-a(x_{i})y_{i})}$\n",
    "\n",
    "$Таргет: \\frac{y_{i}exp(-a(x_{i})y_{i})}{1 + exp(-a(x_{i})y_{i})} = \\frac{y_{i}}{1 + exp(a(x_{i})y_{i})}$"
   ]
  },
  {
   "cell_type": "markdown",
   "metadata": {},
   "source": [
    "##  Реализуем градиентный бустинг (3 балла)"
   ]
  },
  {
   "cell_type": "markdown",
   "metadata": {},
   "source": [
    "Реализуйте класс градиентного бустинга для классификации. Ваша реализация бустинга должна работать по точности не более чем на 5 процентов хуже чем GradientBoostingClassifier из sklearn. \n"
   ]
  },
  {
   "cell_type": "markdown",
   "metadata": {},
   "source": [
    "Детали реализации:\n",
    "\n",
    "-- должно поддерживаться 3 функции потерь\n",
    "\n",
    "-- сами базовые алгоритмы(деревья, линейные модели и тп) реализовать не надо, просто возьмите готовые из sklearn\n",
    "\n",
    "-- в качестве функции потерь для построения одного дерева используйте MSE\n",
    "\n",
    "-- шаг в бустинге можно не подбирать, можно брать константный\n",
    "\n",
    "-- можно брать разные модели в качестве инициализации бустинга\n",
    "\n",
    "-- должны поддерживаться следующие параметры:\n",
    "\n",
    "а) число итераций\n",
    "б) размер шага\n",
    "в) процент случайных фичей при построении одного дерева\n",
    "д) процент случайных объектов при построении одного дерева\n",
    "е) параметры базового алгоритма (передавайте через **kwargs)"
   ]
  },
  {
   "cell_type": "code",
   "execution_count": 20,
   "metadata": {},
   "outputs": [],
   "source": [
    "import numpy as np\n",
    "\n",
    "from sklearn.datasets import load_wine\n",
    "from sklearn.ensemble import GradientBoostingClassifier\n",
    "from sklearn.metrics import accuracy_score\n",
    "from sklearn.model_selection import train_test_split\n",
    "from sklearn.tree import DecisionTreeRegressor\n",
    "import copy"
   ]
  },
  {
   "cell_type": "code",
   "execution_count": 28,
   "metadata": {},
   "outputs": [],
   "source": [
    "from sklearn.base import BaseEstimator\n",
    "class MyGradientBoostingClassifier(BaseEstimator):\n",
    "\n",
    "    def __init__(self, loss = 'mse', learning_rate = 0.1, n_estimators = 100,\n",
    "                 colsample = 1.0, subsample = 1.0, **kwargs):\n",
    "        \"\"\"\n",
    "        loss -- один из 3 лоссов:\n",
    "        learning_rate -- шаг бустинга\n",
    "        n_estimators -- число итераций\n",
    "        colsample -- процент рандомных признаков при обучнеии одного алгоритма\n",
    "        colsample -- процент рандомных объектов при обучнеии одного алгоритма\n",
    "        args, kwargs -- параметры  базовых моделей\n",
    "        \"\"\"\n",
    "        self.loss = loss\n",
    "        self.learning_rate = learning_rate\n",
    "        self.n_estimators = n_estimators\n",
    "        self.colsample = colsample\n",
    "        self.subsample = subsample\n",
    "        self.kwargs = kwargs\n",
    "    \n",
    "    def fit(self, X, y, base_model = DecisionTreeRegressor, init_model=None):\n",
    "        \"\"\"\n",
    "        X -- объекты для обучения:\n",
    "        y -- таргеты для обучения\n",
    "        base_model -- класс базовых моделей, например sklearn.tree.DecisionTreeRegressor\n",
    "        init_model -- класс для первой модели, если None то берем константу (только для посл задания)\n",
    "        \"\"\"\n",
    "        self.init_model = init_model\n",
    "        F = self.first_model(X, y)\n",
    "\n",
    "        feature_size = int(X.shape[1] * self.colsample)\n",
    "        sample_size = int(X.shape[0] * self.subsample)\n",
    "        self.models = []\n",
    "        self.features = []\n",
    "        for i in range(self.n_estimators):\n",
    "            samples = np.random.permutation(sample_size)\n",
    "            features = np.random.permutation(feature_size)\n",
    "            new_target = self.new_target(F[samples], y[samples])\n",
    "            model = base_model(**self.kwargs)\n",
    "            model.fit(X[samples][:, features], new_target)\n",
    "            self.models.append(model)\n",
    "            self.features.append(features)\n",
    "            F += self.learning_rate * model.predict(X[:,features])\n",
    "        \n",
    "    def new_target(self, predict, y):\n",
    "        if self.loss == 'mse':\n",
    "            return 2*(y - predict)\n",
    "        elif self.loss == 'exp':\n",
    "            return y * np.exp(-(predict * y))\n",
    "        elif self.loss == 'log':\n",
    "            return y / (1 + np.exp(predict * y))\n",
    "        \n",
    "    def first_model(self, X, y):\n",
    "        if self.init_model is None:\n",
    "            if self.loss == 'mse':\n",
    "                self.f_0 = np.sum(y) / y.size\n",
    "            elif self.loss == 'exp':\n",
    "                count_y1 = np.sum(y > 0)\n",
    "                if count_y1 == 0:\n",
    "                    self.f_0 = -1\n",
    "                elif count_y1 == y.size:\n",
    "                    self.f_0 = 1\n",
    "                else:\n",
    "                    self.f_0 = (np.log(count_y1) - np.log(y.size - count_y1)) / 2\n",
    "            elif self.loss == 'log':\n",
    "                count_y1 = np.sum(y > 0)\n",
    "                if count_y1 == 0:\n",
    "                    self.f_0 = -1\n",
    "                elif count_y1 == y.size:\n",
    "                    self.f_0 = 1\n",
    "                else:\n",
    "                    self.f_0 = np.log(count_y1) - np.log(y.size - count_y1)\n",
    "            return np.array([self.f_0 for i in range(y.shape[0])])\n",
    "        else:\n",
    "            model = self.init_model()\n",
    "            model.fit(X,y)\n",
    "            self.init_model = model\n",
    "            return model.predict(X)\n",
    "            \n",
    "    def predict(self, X):\n",
    "        if self.init_model is None:\n",
    "            F = [self.f_0 for i in range(X.shape[0])]\n",
    "        else:\n",
    "            F = self.init_model.predict(X)\n",
    "\n",
    "        for model_id, model in enumerate(self.models):\n",
    "            F += self.learning_rate * model.predict(X[:, self.features[model_id]])\n",
    "        return np.round(F)"
   ]
  },
  {
   "cell_type": "code",
   "execution_count": 12,
   "metadata": {},
   "outputs": [],
   "source": [
    "my_clf = MyGradientBoostingClassifier()\n",
    "clf = GradientBoostingClassifier()"
   ]
  },
  {
   "cell_type": "code",
   "execution_count": 13,
   "metadata": {},
   "outputs": [],
   "source": [
    "wine = load_wine()\n",
    "X_train, X_test, y_train, y_test = train_test_split(wine.data, wine.target, test_size=0.1, stratify=wine.target)"
   ]
  },
  {
   "cell_type": "code",
   "execution_count": 14,
   "metadata": {},
   "outputs": [
    {
     "name": "stdout",
     "output_type": "stream",
     "text": [
      "0.8333333333333334\n",
      "1.0\n"
     ]
    }
   ],
   "source": [
    "my_clf.fit(X_train, y_train)\n",
    "clf.fit(X_train, y_train)\n",
    "print(accuracy_score(y_pred=clf.predict(X_test), y_true=y_test))\n",
    "print(accuracy_score(y_pred=my_clf.predict(X_test), y_true=y_test))"
   ]
  },
  {
   "cell_type": "markdown",
   "metadata": {},
   "source": [
    "## Подбираем параметры (2 балла)\n",
    "\n",
    "Давайте попробуем применить Ваш бустинг для предсказаний цены домов в Калифорнии. Чтобы можно было попробовтаь разные функции потерь, переведем по порогу таргет в 2 класса: дорогие и дешевые дома."
   ]
  },
  {
   "cell_type": "markdown",
   "metadata": {},
   "source": [
    "В задании нужно\n",
    "\n",
    "1) Построить график точности в зависимости от числа итераций на валидации.\n",
    "\n",
    "2) Подобрать оптимальные параметры Вашего бустинга на валидации. \n"
   ]
  },
  {
   "cell_type": "code",
   "execution_count": 15,
   "metadata": {},
   "outputs": [],
   "source": [
    "from sklearn.datasets import fetch_california_housing\n",
    "X, y = fetch_california_housing(return_X_y=True)"
   ]
  },
  {
   "cell_type": "code",
   "execution_count": 16,
   "metadata": {},
   "outputs": [
    {
     "name": "stdout",
     "output_type": "stream",
     "text": [
      "(20640, 8) (20640,)\n"
     ]
    }
   ],
   "source": [
    "# Превращаем регрессию в классификацию\n",
    "y = (y > 2.0).astype(int)\n",
    "print(X.shape, y.shape)"
   ]
  },
  {
   "cell_type": "code",
   "execution_count": 17,
   "metadata": {},
   "outputs": [],
   "source": [
    "from sklearn.model_selection import cross_val_score, KFold\n",
    "from tqdm import tqdm\n",
    "import matplotlib.pyplot as plt\n",
    "%matplotlib inline"
   ]
  },
  {
   "cell_type": "code",
   "execution_count": 34,
   "metadata": {},
   "outputs": [
    {
     "name": "stderr",
     "output_type": "stream",
     "text": [
      "100%|██████████| 95/95 [22:55<00:00, 14.48s/it]\n"
     ]
    }
   ],
   "source": [
    "x_label = []\n",
    "y_label = []\n",
    "for i in tqdm(range(5,100)):\n",
    "    x_label.append(i)\n",
    "    my_clf = MyGradientBoostingClassifier(n_estimators = i, max_depth = 5)\n",
    "    accuracy = 0\n",
    "    for iter in range(5):\n",
    "        X_train, X_test, y_train, y_test = train_test_split(X, y, test_size=0.2, stratify=y)\n",
    "        my_clf.fit(X_train, y_train)\n",
    "        accuracy += accuracy_score(my_clf.predict(X_test), y_test)\n",
    "    y_label.append(accuracy / 5)"
   ]
  },
  {
   "cell_type": "code",
   "execution_count": 35,
   "metadata": {
    "scrolled": true
   },
   "outputs": [
    {
     "name": "stdout",
     "output_type": "stream",
     "text": [
      "optimal estimator 77\n",
      "best accuracy 0.8965116279069768\n"
     ]
    },
    {
     "data": {
      "image/png": "[encoded data removed]",
      "text/plain": [
       "<Figure size 432x288 with 1 Axes>"
      ]
     },
     "metadata": {
      "needs_background": "light"
     },
     "output_type": "display_data"
    }
   ],
   "source": [
    "plt.xlabel(\"iterations\")\n",
    "plt.ylabel(\"accuracy_score\")\n",
    "plt.plot(x_label,y_label)\n",
    "print('optimal estimator', x_label[np.argmax(y_label)])\n",
    "print('best accuracy', np.max(y_label))"
   ]
  },
  {
   "cell_type": "code",
   "execution_count": 22,
   "metadata": {},
   "outputs": [
    {
     "name": "stderr",
     "output_type": "stream",
     "text": [
      "100%|██████████| 3/3 [01:04<00:00, 21.41s/it]\n"
     ]
    }
   ],
   "source": [
    "kf = KFold(n_splits = 5)\n",
    "accure = []\n",
    "for loss in tqdm(['mse', 'exp', 'log']):\n",
    "    my_clf = MyGradientBoostingClassifier(loss = loss, n_estimators = 77, max_depth = 5)\n",
    "    accuracy = 0\n",
    "    if loss != 'mse':\n",
    "        new_y = copy.deepcopy(y)\n",
    "        new_y[new_y < 1] = -1\n",
    "    else:\n",
    "        new_y = y\n",
    "    for train_index, test_index in kf.split(X):\n",
    "        my_clf.fit(X[train_index], new_y[train_index])\n",
    "        accuracy += accuracy_score(my_clf.predict(X[test_index]), new_y[test_index])\n",
    "    accure.append(accuracy / 5)"
   ]
  },
  {
   "cell_type": "code",
   "execution_count": 23,
   "metadata": {},
   "outputs": [
    {
     "name": "stdout",
     "output_type": "stream",
     "text": [
      "[0.8309593023255815, 0.41778100775193805, 0.41603682170542633]\n"
     ]
    }
   ],
   "source": [
    "print(accure)"
   ]
  },
  {
   "cell_type": "code",
   "execution_count": 38,
   "metadata": {},
   "outputs": [
    {
     "name": "stderr",
     "output_type": "stream",
     "text": [
      "100%|██████████| 10/10 [03:37<00:00, 21.76s/it]\n"
     ]
    }
   ],
   "source": [
    "accure = []\n",
    "for step in tqdm([0.01, 0.05, 0.1, 0.15, 0.2, 0.3, 0.4, 0.5, 0.8, 1.0]):\n",
    "    my_clf = MyGradientBoostingClassifier(learning_rate = step, n_estimators = 77, max_depth = 5)\n",
    "    accuracy = 0\n",
    "    for train_index, test_index in kf.split(X):\n",
    "        my_clf.fit(X[train_index], y[train_index])\n",
    "        accuracy += accuracy_score(my_clf.predict(X[test_index]), y[test_index])\n",
    "    accure.append(accuracy / 5)"
   ]
  },
  {
   "cell_type": "code",
   "execution_count": 39,
   "metadata": {
    "scrolled": true
   },
   "outputs": [
    {
     "name": "stdout",
     "output_type": "stream",
     "text": [
      "optimal learning_rate 0.1\n"
     ]
    },
    {
     "data": {
      "image/png": "[encoded data removed]",
      "text/plain": [
       "<Figure size 432x288 with 1 Axes>"
      ]
     },
     "metadata": {
      "needs_background": "light"
     },
     "output_type": "display_data"
    }
   ],
   "source": [
    "plt.xlabel('learning_rate')\n",
    "plt.ylabel('accuracy')\n",
    "plt.plot([0.01, 0.05, 0.1, 0.15, 0.2, 0.3, 0.4, 0.5, 0.8, 1.0], accure)\n",
    "print('optimal learning_rate', [0.01, 0.05, 0.1, 0.15, 0.2, 0.3, 0.4, 0.5, 0.8, 1.0][np.argmax(accure)])"
   ]
  },
  {
   "cell_type": "code",
   "execution_count": 40,
   "metadata": {},
   "outputs": [
    {
     "name": "stderr",
     "output_type": "stream",
     "text": [
      "100%|██████████| 5/5 [03:17<00:00, 39.57s/it]\n"
     ]
    }
   ],
   "source": [
    "accure = []\n",
    "pair = []\n",
    "for col in tqdm([0.2, 0.4, 0.6, 0.8, 1.0]):\n",
    "    for sub in [0.2, 0.4, 0.6, 0.8, 1.0]:\n",
    "        my_clf = MyGradientBoostingClassifier(learning_rate = 0.1, n_estimators = 77,\n",
    "                                                      colsample = col, subsample = sub, max_depth = 5)\n",
    "        accuracy = 0\n",
    "        for train_index, test_index in kf.split(X):\n",
    "            my_clf.fit(X[train_index], y[train_index])\n",
    "            accuracy += accuracy_score(my_clf.predict(X[test_index]), y[test_index])\n",
    "        accure.append(accuracy / 5)\n",
    "        pair.append((col, sub))"
   ]
  },
  {
   "cell_type": "code",
   "execution_count": 41,
   "metadata": {},
   "outputs": [
    {
     "name": "stdout",
     "output_type": "stream",
     "text": [
      "optimal sample percent 1.0\n",
      "optimal column percent 1.0\n"
     ]
    }
   ],
   "source": [
    "print('optimal sample percent',pair[np.argmax(accure)][1])\n",
    "print('optimal column percent',pair[np.argmax(accure)][0])"
   ]
  },
  {
   "cell_type": "code",
   "execution_count": 45,
   "metadata": {},
   "outputs": [
    {
     "name": "stderr",
     "output_type": "stream",
     "text": [
      "100%|██████████| 4/4 [04:53<00:00, 73.49s/it]\n"
     ]
    }
   ],
   "source": [
    "accure = []\n",
    "pair = []\n",
    "for col in tqdm([0.85, 0.9, 0.95, 1.0]):\n",
    "    for sub in [0.85, 0.9, 0.95, 1.0]:\n",
    "        my_clf = MyGradientBoostingClassifier(learning_rate = 0.1, n_estimators = 77,\n",
    "                                                      colsample = col, subsample = sub, max_depth = 5)\n",
    "        accuracy = 0\n",
    "        for train_index, test_index in kf.split(X):\n",
    "            my_clf.fit(X[train_index], y[train_index])\n",
    "            accuracy += accuracy_score(my_clf.predict(X[test_index]), y[test_index])\n",
    "        accure.append(accuracy / 5)\n",
    "        pair.append((col, sub))"
   ]
  },
  {
   "cell_type": "code",
   "execution_count": 46,
   "metadata": {},
   "outputs": [
    {
     "name": "stdout",
     "output_type": "stream",
     "text": [
      "optimal sample percent 1.0\n",
      "optimal column percent 1.0\n"
     ]
    }
   ],
   "source": [
    "print('optimal sample percent',pair[np.argmax(accure)][1])\n",
    "print('optimal column percent',pair[np.argmax(accure)][0])"
   ]
  },
  {
   "cell_type": "markdown",
   "metadata": {},
   "source": [
    "Оптимальные параметры:\n",
    "\n",
    "1)loss = mse\n",
    "\n",
    "2)learning_rate = 0.1\n",
    "\n",
    "3)n_estimators = 77\n",
    "\n",
    "4)colsample = 1.0\n",
    "\n",
    "5)subsample = 1.0"
   ]
  },
  {
   "cell_type": "code",
   "execution_count": 38,
   "metadata": {},
   "outputs": [
    {
     "data": {
      "text/plain": [
       "0.8946220930232558"
      ]
     },
     "execution_count": 38,
     "metadata": {},
     "output_type": "execute_result"
    }
   ],
   "source": [
    "X_train, X_test, y_train, y_test = train_test_split(X, y, test_size=0.2, stratify=y)\n",
    "my_clf = MyGradientBoostingClassifier(learning_rate = 0.1, n_estimators = 77,\n",
    "                                                      colsample = 1.0, subsample = 1.0, max_depth = 5)\n",
    "my_clf.fit(X_train, y_train)\n",
    "accuracy_score(my_clf.predict(X_test), y_test)"
   ]
  },
  {
   "cell_type": "markdown",
   "metadata": {},
   "source": [
    "## BooBag BagBoo (1 балл)\n",
    "\n"
   ]
  },
  {
   "cell_type": "markdown",
   "metadata": {},
   "source": [
    "Попробуем объединить бустинг и бэгинг. Давайте\n",
    "\n",
    "1) в качестве базовой модели брать не дерево решений, а случайный лес (из sklearn)\n",
    "\n",
    "2) обучать N бустингов на бустрапированной выборке, а затем предикт усреднять"
   ]
  },
  {
   "cell_type": "markdown",
   "metadata": {},
   "source": [
    "Попробуйте обе этих стратегии на данных из прошлого задания. Получилось ли улучшить качество? Почему?"
   ]
  },
  {
   "cell_type": "code",
   "execution_count": 24,
   "metadata": {},
   "outputs": [],
   "source": [
    "from sklearn.ensemble import RandomForestRegressor, BaggingRegressor"
   ]
  },
  {
   "cell_type": "markdown",
   "metadata": {},
   "source": [
    "Попробуем в качестве базовой модели выбрать случайный лес."
   ]
  },
  {
   "cell_type": "code",
   "execution_count": 66,
   "metadata": {},
   "outputs": [
    {
     "data": {
      "text/plain": [
       "0.8980135658914729"
      ]
     },
     "execution_count": 66,
     "metadata": {},
     "output_type": "execute_result"
    }
   ],
   "source": [
    "my_clf = MyGradientBoostingClassifier(learning_rate=0.1, n_estimators=77, colsample=1.0,\n",
    "                                             subsample=1.0, max_depth = 5)\n",
    "X_train, X_test, y_train, y_test = train_test_split(X, y, test_size=0.2, stratify=y)\n",
    "my_clf.fit(X_train, y_train, base_model=RandomForestRegressor)\n",
    "accuracy_score(my_clf.predict(X_test), y_test)"
   ]
  },
  {
   "cell_type": "markdown",
   "metadata": {},
   "source": [
    "А теперь попробуем обучить 100 бустингов"
   ]
  },
  {
   "cell_type": "code",
   "execution_count": 69,
   "metadata": {},
   "outputs": [
    {
     "name": "stderr",
     "output_type": "stream",
     "text": [
      "100%|██████████| 100/100 [06:19<00:00,  3.80s/it]"
     ]
    },
    {
     "name": "stdout",
     "output_type": "stream",
     "text": [
      "0.9016472868217055\n"
     ]
    },
    {
     "name": "stderr",
     "output_type": "stream",
     "text": [
      "\n"
     ]
    }
   ],
   "source": [
    "X_train, X_test, y_train, y_test = train_test_split(X, y, test_size=0.2, stratify=y)\n",
    "predict = np.ones(X_test.shape[0])\n",
    "for i in tqdm(range(100)):\n",
    "    samples = np.random.randint(0, X_train.shape[0], size = X_train.shape[0])\n",
    "    my_clf = MyGradientBoostingClassifier(learning_rate = 0.1, n_estimators = 77,\n",
    "                                                      colsample = 1.0, subsample = 1.0, max_depth = 5)\n",
    "    my_clf.fit(X_train[samples], y_train[samples])\n",
    "    predict += my_clf.predict(X_test)\n",
    "print(accuracy_score(np.round(predict / 100), y_test))"
   ]
  },
  {
   "cell_type": "code",
   "execution_count": 37,
   "metadata": {
    "scrolled": true
   },
   "outputs": [
    {
     "data": {
      "text/plain": [
       "0.876937984496124"
      ]
     },
     "execution_count": 37,
     "metadata": {},
     "output_type": "execute_result"
    }
   ],
   "source": [
    "X_train, X_test, y_train, y_test = train_test_split(X, y, test_size=0.2, stratify=y)\n",
    "my_clf = MyGradientBoostingClassifier(learning_rate = 0.1, n_estimators = 77,\n",
    "                                                      colsample = 1.0, subsample = 1.0, max_depth = 5)\n",
    "bagg = BaggingRegressor(base_estimator = my_clf, random_state = 0, n_estimators = 100)\n",
    "bagg.fit(X_train, y_train)\n",
    "accuracy_score(np.round(bagg.predict(X_test)), y_test)"
   ]
  },
  {
   "cell_type": "markdown",
   "metadata": {},
   "source": [
    "Как мы видим, качество не сильно увеличилось.На пару десятых процента. В базовом алгоритме мы уже используем в качестве базовой модели Дерево Решений, поэтому BagBoo не особо нам поможет, так как каждый бустинг он +- похож на другие, соответственно предикт будет одинаковый. BooBag тоже не очень помог, видимо я изначально подобрал параметры так, что мое предсказание достаточно точное) И случайный лес не дал преимущества, так как он обучает деревя на части выборки, в то время как наше дерево решений на всей выборке."
   ]
  },
  {
   "cell_type": "markdown",
   "metadata": {
    "collapsed": true
   },
   "source": [
    "## Умная инициализация (1 балл)\n",
    "\n",
    "Попробуйте брать в качестве инициализации бустинга не константу, а какой-то алгоритм и уже от его предикта стартовать итерации бустинга. Попробуйте разные модели из sklearn: линейные модели, рандом форест, svm..\n",
    "\n",
    "Получилось ли улучшить качество? Почему?\n",
    "\n"
   ]
  },
  {
   "cell_type": "code",
   "execution_count": 70,
   "metadata": {},
   "outputs": [],
   "source": [
    "from sklearn.linear_model import LinearRegression\n",
    "from sklearn.svm import SVR"
   ]
  },
  {
   "cell_type": "code",
   "execution_count": 76,
   "metadata": {},
   "outputs": [
    {
     "data": {
      "text/plain": [
       "0.8965600775193798"
      ]
     },
     "execution_count": 76,
     "metadata": {},
     "output_type": "execute_result"
    }
   ],
   "source": [
    "my_clf = MyGradientBoostingClassifier(learning_rate = 0.1, n_estimators = 77,\n",
    "                                                      colsample = 1.0, subsample = 1.0, max_depth = 5)\n",
    "my_clf.fit(X_train, y_train, init_model = LinearRegression)\n",
    "accuracy_score(my_clf.predict(X_test), y_test)"
   ]
  },
  {
   "cell_type": "code",
   "execution_count": 77,
   "metadata": {},
   "outputs": [
    {
     "data": {
      "text/plain": [
       "0.8878391472868217"
      ]
     },
     "execution_count": 77,
     "metadata": {},
     "output_type": "execute_result"
    }
   ],
   "source": [
    "my_clf = MyGradientBoostingClassifier(learning_rate = 0.1, n_estimators = 77,\n",
    "                                                      colsample = 1.0, subsample = 1.0, max_depth = 5)\n",
    "my_clf.fit(X_train, y_train, init_model = RandomForestRegressor)\n",
    "accuracy_score(my_clf.predict(X_test), y_test)"
   ]
  },
  {
   "cell_type": "code",
   "execution_count": 75,
   "metadata": {},
   "outputs": [
    {
     "data": {
      "text/plain": [
       "0.8989825581395349"
      ]
     },
     "execution_count": 75,
     "metadata": {},
     "output_type": "execute_result"
    }
   ],
   "source": [
    "my_clf = MyGradientBoostingClassifier(learning_rate = 0.1, n_estimators = 77,\n",
    "                                                      colsample = 1.0, subsample = 1.0, max_depth = 5)\n",
    "my_clf.fit(X_train, y_train, init_model = SVR)\n",
    "accuracy_score(my_clf.predict(X_test), y_test)"
   ]
  },
  {
   "cell_type": "markdown",
   "metadata": {},
   "source": [
    "В данном случае качество тоже не особо выросло, потому что у нас задача бинарной классификации, соответственно нужно предсказать, класс 1 или 0 у объекта. В качестве начального приближения я брал вектор из среднего значения классов, и это довольно хорошее начальный предикт, так как и на тестовой, и на трейновой выборке начальное приближение у меня соотношение разных классов примерно одинаковое. Все испробованные мной модели в качестве начальной давали предикт на тестовых объектах, и их предсказание не сильно лучше моего начального приближения, так как эти предсказания содержат в себе ошибки, которые потом исправляют деревья решений."
   ]
  },
  {
   "cell_type": "markdown",
   "metadata": {},
   "source": [
    "## Фидбек (бесценно)"
   ]
  },
  {
   "cell_type": "markdown",
   "metadata": {},
   "source": [
    "* Какие аспекты обучения  ансамблей Вам показались непонятными? Какое место стоит дополнительно объяснить?"
   ]
  },
  {
   "cell_type": "markdown",
   "metadata": {},
   "source": [
    "### Ваш ответ здесь"
   ]
  },
  {
   "cell_type": "markdown",
   "metadata": {},
   "source": [
    "* Здесь Вы можете оставить отзыв о этой домашней работе или о всем курсе."
   ]
  },
  {
   "cell_type": "markdown",
   "metadata": {},
   "source": [
    "### ВАШ ОТЗЫВ ЗДЕСЬ\n",
    "\n"
   ]
  },
  {
   "cell_type": "code",
   "execution_count": null,
   "metadata": {
    "collapsed": true
   },
   "outputs": [],
   "source": []
  },
  {
   "cell_type": "code",
   "execution_count": null,
   "metadata": {},
   "outputs": [],
   "source": []
  }
 ],
 "metadata": {
  "anaconda-cloud": {},
  "kernelspec": {
   "display_name": "Python 3",
   "language": "python",
   "name": "python3"
  },
  "language_info": {
   "codemirror_mode": {
    "name": "ipython",
    "version": 3
   },
   "file_extension": ".py",
   "mimetype": "text/x-python",
   "name": "python",
   "nbconvert_exporter": "python",
   "pygments_lexer": "ipython3",
   "version": "3.7.10"
  }
 },
 "nbformat": 4,
 "nbformat_minor": 2
}
